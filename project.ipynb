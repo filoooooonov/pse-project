{
 "cells": [
  {
   "cell_type": "markdown",
   "metadata": {},
   "source": [
    "# Air Pollution and Health Outcomes in US Cities: A Correlation Analysis"
   ]
  },
  {
   "cell_type": "markdown",
   "metadata": {},
   "source": [
    "### Introduction to the project\n",
    "This project investigates the relationship between air pollution levels and various health outcomes across cities in the United States. By combining ambient air quality data from the World Health Organization (WHO) with health statistics from the CDC's PLACES dataset, the analysis examines whether there are statistically significant correlations between air pollutants (particularly PM2.5 and PM10) and the prevalence of various health conditions.\n",
    "\n",
    "### Hypothesis\n",
    "The analysis addresses two primary hypotheses:\n",
    "1. Prevelance of respiratory tract conditions have statistically significant positive correlation with air pollutants.\n",
    "2. Overall quality of life metrics have statistically significant negative correlation with air pollutants.\n",
    "\n",
    "### Methods\n",
    "The analysis employs weighted Spearman correlation coefficients to account for non-normally distributed data and different population sizes across cities. Through comprehensive data processing, statistical testing, and visualization techniques, the project offers insights into how air pollution may be associated with specific health conditions in urban environments."
   ]
  },
  {
   "cell_type": "markdown",
   "metadata": {},
   "source": [
    "## Importing libraries"
   ]
  },
  {
   "cell_type": "code",
   "execution_count": null,
   "metadata": {},
   "outputs": [],
   "source": [
    "import pandas as pd\n",
    "import matplotlib as plt\n",
    "import numpy as np\n",
    "from rapidfuzz import process, fuzz\n",
    "import scipy.io\n",
    "from scipy import stats\n",
    "import matplotlib.pyplot as plt\n",
    "from scipy.stats import shapiro\n",
    "import seaborn as sns\n",
    "from weighted_spearman import weighted_spearman"
   ]
  },
  {
   "cell_type": "markdown",
   "metadata": {},
   "source": [
    "## Reading and cleaning the datasets"
   ]
  },
  {
   "cell_type": "markdown",
   "metadata": {},
   "source": [
    "### Base dataset"
   ]
  },
  {
   "cell_type": "markdown",
   "metadata": {},
   "source": [
    "Ambient air quality data from World Health Organisation (WHO). The dataset has measurements for pm2.5, pm10 and NO2 levels for 7000 human settlements in 120 countries. We restrict the scope of this analysis to only include cities in the USA, since the most uniform health data for a large area we found was for the USA.\n",
    "\n",
    "[link](https://www.who.int/publications/m/item/who-ambient-air-quality-database-(update-jan-2024))"
   ]
  },
  {
   "cell_type": "code",
   "execution_count": null,
   "metadata": {},
   "outputs": [],
   "source": [
    "# Read the air quality data\n",
    "air_quality_df = pd.read_excel(\"who_ambient_air_quality_database_version_2024_(v6.1).xlsx\", sheet_name=\"Update 2024 (V6.1)\")\n",
    "\n",
    "# Filter by US\n",
    "air_quality_df = air_quality_df[air_quality_df[\"country_name\"] == \"United States of America\"]\n",
    "\n",
    "# Drop unnnecessary columns\n",
    "air_quality_df = air_quality_df.drop(['country_name', 'version','reference','web_link', 'population_source','who_ms', 'type_of_stations', 'population', 'latitude', 'longitude', 'iso3', 'who_region', 'pm25_tempcov', 'pm10_tempcov','no2_tempcov'], axis=1)\n",
    "\n",
    "# Remove state from city names\n",
    "air_quality_df['city'] = air_quality_df['city'].str.split(' ').str[0]\n",
    "air_quality_df['city'] = air_quality_df['city'].str.split('-').str[0]\n",
    "\n",
    "# Leave only year 2020\n",
    "air_quality_df = air_quality_df[air_quality_df['year'] == 2020.0]\n",
    "\n",
    "air_quality_df.head()\n"
   ]
  },
  {
   "cell_type": "markdown",
   "metadata": {},
   "source": [
    "### Additional dataset"
   ]
  },
  {
   "cell_type": "markdown",
   "metadata": {},
   "source": [
    "Statistics of different medical conditions in USA cities. The dataset includes different health measures, risk behaviours and preventive measures taken in different US cities. In the context of this analysis we are only interested in the health measures, so we remove all the irrelevant columns. However, we include smoking among adults for a reason we will discuss during the analysis of the results.\n",
    "\n",
    "[link](https://data.cdc.gov/500-Cities-Places/PLACES-Local-Data-for-Better-Health-County-Data-20/duw2-7jbt/about_data)"
   ]
  },
  {
   "cell_type": "code",
   "execution_count": null,
   "metadata": {},
   "outputs": [],
   "source": [
    "# Read the health statistics data\n",
    "health_statistic_df = pd.read_csv(\"PLACES_Local_Data_for_Better_Health_County_Data_2022_release_20250320.csv\")\n",
    "\n",
    "# We will use the age-adjusted data for the analysis to mitigate the impact of age distribution differences across cities\n",
    "health_statistic_df = health_statistic_df[health_statistic_df[\"Data_Value_Type\"].str.contains(\"Age\", na=False)]\n",
    "\n",
    "# Filter out cities with less than 100,000 population\n",
    "health_statistic_df = health_statistic_df[health_statistic_df['TotalPopulation'] > 100000]\n",
    "\n",
    "# Rename the city column\n",
    "health_statistic_df = health_statistic_df.rename(columns={\"LocationName\": \"city\"})\n",
    "\n",
    "# Drop unnecessary columns\n",
    "health_statistic_df = health_statistic_df.drop(['StateAbbr', 'StateDesc', 'DataSource', 'Category', 'LocationID', 'CategoryID', 'DataValueTypeID', 'Geolocation', 'Low_Confidence_Limit', 'High_Confidence_Limit', 'Data_Value_Footnote_Symbol', 'MeasureId', 'Data_Value_Footnote' ], axis=1)\n",
    "\n",
    "# First, let's identify the unique cities and measures\n",
    "unique_cities = health_statistic_df['city'].unique()\n",
    "unique_measures = health_statistic_df['Short_Question_Text'].unique()\n",
    "\n",
    "# Create a pivot table with cities as index and measures as columns\n",
    "health_df = health_statistic_df.pivot_table(\n",
    "    index='city',\n",
    "    columns='Measure',\n",
    "    values='Data_Value',\n",
    "    aggfunc='mean'  # Use mean if there are duplicate entries\n",
    ")\n",
    "\n",
    "population_df = health_statistic_df.groupby('city')['TotalPopulation'].first().reset_index()\n",
    "\n",
    "# Reset the index to make 'city' a column again\n",
    "health_df = health_df.reset_index()\n",
    "\n",
    "# Drop columns that are not needed for the analysis\n",
    "conditionsToDrop = [\n",
    "'Current lack of health insurance among adults aged 18-64 years',\n",
    "'Cervical cancer screening among adult women aged 21-65 years',\n",
    "'Visits to dentist or dental clinic among adults aged >=18 years',\n",
    "'Visits to doctor for routine checkup within the past year among adults aged >=18 years',\n",
    "'Mammography use among women aged 50-74 years',\n",
    "'Cholesterol screening among adults aged >=18 years',\n",
    "'Older adult men aged >=65 years who are up to date on a core set of clinical preventive services: Flu shot past year, PPV shot ever, Colorectal cancer screening',\n",
    "'Fecal occult blood test, sigmoidoscopy, or colonoscopy among adults aged 50-75 years',\n",
    "'Older adult women aged >=65 years who are up to date on a core set of clinical preventive services: Flu shot past year, PPV shot ever, Colorectal cancer screening, and Mammogram past 2 years',\n",
    "'All teeth lost among adults aged >=65 years',\n",
    "'Arthritis among adults aged >=18 years',\n",
    "'Binge drinking among adults aged >=18 years',\n",
    "# 'Current smoking among adults aged >=18 years',\n",
    "'Diagnosed diabetes among adults aged >=18 years',\n",
    "'High cholesterol among adults aged >=18 years who have been screened in the past 5 years',\n",
    "'No leisure-time physical activity among adults aged >=18 years',\n",
    "'No leisure-time physical activity among adults aged >=18 years',\n",
    "'Sleeping less than 7 hours among adults aged >=18 years',\n",
    "'Stroke among adults aged >=18 years',\n",
    "'Taking medicine for high blood pressure control among adults aged >=18 years with high blood pressure'\n",
    "]\n",
    "health_df = health_df.drop(conditionsToDrop, axis=1)\n",
    "\n",
    "# All diseases\n",
    "numberOfDiseases = len(list(health_statistic_df['Measure'].unique()))\n",
    "\n",
    "\n",
    "health_df.head()\n",
    "\n"
   ]
  },
  {
   "cell_type": "markdown",
   "metadata": {},
   "source": [
    "### Matching cities using rapidfuzz"
   ]
  },
  {
   "cell_type": "markdown",
   "metadata": {},
   "source": [
    "Since the formatting of some city names is slightly different in the two datasets, using fuzzrapidfuzz allows us to keep more of the data than simple string matching. In this block we replace the city names in 'city' column of air_quality_df with the corresponding names from health_df so that we can merge them later."
   ]
  },
  {
   "cell_type": "code",
   "execution_count": null,
   "metadata": {},
   "outputs": [],
   "source": [
    "def find_best_match_city(city, citylist, threshold=95):\n",
    "    best_match, score, _ = process.extractOne(city, citylist, scorer=fuzz.ratio)\n",
    "    return best_match if score >= threshold else city\n",
    "\n",
    "air_quality_df['city'] = air_quality_df['city'].apply(lambda x: find_best_match_city(x, unique_cities))"
   ]
  },
  {
   "cell_type": "markdown",
   "metadata": {},
   "source": [
    "### Merging the two based on the matched cities"
   ]
  },
  {
   "cell_type": "markdown",
   "metadata": {},
   "source": [
    "Now we use the previously handled 'city' column to merge our datasets."
   ]
  },
  {
   "cell_type": "code",
   "execution_count": null,
   "metadata": {},
   "outputs": [],
   "source": [
    "# Merge the dataframes on the 'city' column\n",
    "# using inner join to keep only cities that are present in both dataframes\n",
    "merged_df = pd.merge(health_df, air_quality_df, on='city', how='inner')\n",
    "\n",
    "# Merge with population data\n",
    "# using left join to keep all cities from merged_df\n",
    "merged_df = pd.merge(merged_df, population_df, on='city', how='left')\n",
    "\n",
    "# Drop duplicate cities, because the data contains multiple entries for the same city\n",
    "merged_df = merged_df.drop_duplicates(subset='city', keep='first')\n",
    "\n",
    "print(\"Columns with non-null values for:\")\n",
    "print(f\"PM10 concentrations  - {merged_df['pm10_concentration'].notna().sum()}\")\n",
    "print(f\"PM2.5 concentrations - {merged_df['pm25_concentration'].notna().sum()}\")\n",
    "print(f\"NO2 concentrations   - {merged_df['no2_concentration'].notna().sum()}\")"
   ]
  },
  {
   "cell_type": "markdown",
   "metadata": {},
   "source": [
    "## Testing the normality of the data"
   ]
  },
  {
   "cell_type": "markdown",
   "metadata": {},
   "source": [
    "Before we can look for correlations in the data, we need to test for the normality of the data to be able to use appropriate formula for the correlation. Hence, we perform the Shapiro-Wilk normality test, because it is best suited for datasets with medium to large sample sizes. After running the test, we conclude that some of the diseases appear to be non-normally distributed, therefore we must use a formula for correlation coefficient that is suitable for non-normal distributions."
   ]
  },
  {
   "cell_type": "code",
   "execution_count": null,
   "metadata": {},
   "outputs": [],
   "source": [
    "array = merged_df.to_numpy()\n",
    "\n",
    "p_values = []\n",
    "\n",
    "# Get the column names for disease columns (skipping city, year, pollutants, and population)\n",
    "disease_columns = merged_df.columns[1:13].tolist()\n",
    "print(f\"Testing normality for {len(disease_columns)} disease columns:\")\n",
    "print(\"-\"*110)\n",
    "\n",
    "# Run Shapiro-Wilk test for each disease column\n",
    "for i, col_name in enumerate(disease_columns):\n",
    "    disease_data = merged_df[col_name].dropna().values\n",
    "    \n",
    "    stat, p_value = shapiro(disease_data)\n",
    "    p_values.append(p_value)\n",
    "    \n",
    "    result = \"potentially normal\" if p_value >= 0.05 else \"non-normal\"\n",
    "    \n",
    "    print(f\"{col_name:70} | {result:20} | p={p_value:.3f}\")\n",
    "\n",
    "\n",
    "# Count how many p-values are less than 0.05 (indicating non-normal distribution)\n",
    "non_normal_count = sum(p < 0.05 for p in p_values)\n",
    "print(\"-\"*110)\n",
    "col_name = \"Potentially normal\"\n",
    "print(f\"{col_name:70} | {len(p_values) - non_normal_count}\")\n",
    "col_name = \"Non-normal\"\n",
    "print(f\"{col_name:70} | {non_normal_count}\")\n"
   ]
  },
  {
   "cell_type": "markdown",
   "metadata": {},
   "source": [
    "## Weighted spearman's correlation matrix"
   ]
  },
  {
   "cell_type": "markdown",
   "metadata": {},
   "source": [
    "We use spearman's correlation, because it's well suited for non-normally distributed data. Additionally we use the populations of the cities as weights to take into account differently sized cities."
   ]
  },
  {
   "cell_type": "markdown",
   "metadata": {},
   "source": [
    "### Creating the correlation and p-value matrixes"
   ]
  },
  {
   "cell_type": "markdown",
   "metadata": {},
   "source": [
    "Here we create the correlation matrix which includes the correlation coefficient for each pollutant-disease pair. We also create a corresponding p-value matrix, since calculating the p-value for weighted spearman's correlation afterwards is hard."
   ]
  },
  {
   "cell_type": "code",
   "execution_count": null,
   "metadata": {},
   "outputs": [],
   "source": [
    "# Pollutant columns, we choose to exlude NO2 here, since there was less data on that one then the other\n",
    "# pollutants, and the relaibility of the data appeared to be worse, since the measurements were less frequent.\n",
    "pollutants = ['pm10_concentration', 'pm25_concentration']\n",
    "\n",
    "# Disease columns\n",
    "disease_columns = [col for col in health_df.columns if col != 'city']\n",
    "\n",
    "# Create a correlation matrix between pollutants and diseases\n",
    "correlation_matrix = pd.DataFrame(index=disease_columns, columns=pollutants)\n",
    "\n",
    "# Create corresponding p-value matrix for the correlations\n",
    "p_value_matrix = pd.DataFrame(index=disease_columns, columns=pollutants)\n",
    "\n",
    "# Extract weights (population values)\n",
    "weights = merged_df['TotalPopulation']\n",
    "\n",
    "# Calculate weighted correlation for each pollutant-disease pair\n",
    "for disease in disease_columns:\n",
    "    for pollutant in pollutants:\n",
    "        # Extract the data\n",
    "        data_disease = merged_df[disease]\n",
    "        data_pollutant = merged_df[pollutant]\n",
    "        \n",
    "        # Create mask for non-NaN values in both columns\n",
    "        mask = ~data_disease.isna() & ~data_pollutant.isna()\n",
    "        \n",
    "        \n",
    "        # Calculate weighted correlation using the function\n",
    "        corr_value, p_value = weighted_spearman(\n",
    "            data_disease[mask].values, \n",
    "            data_pollutant[mask].values, \n",
    "            weights[mask].values\n",
    "        )\n",
    "        correlation_matrix.loc[disease, pollutant] = corr_value\n",
    "        p_value_matrix.loc[disease, pollutant] = p_value\n"
   ]
  },
  {
   "cell_type": "markdown",
   "metadata": {},
   "source": [
    "### Displaying correlation matrix without p-values"
   ]
  },
  {
   "cell_type": "markdown",
   "metadata": {},
   "source": [
    "We generate the correlation matrix between airpollutants and medical conditions, since it is the easiest way to get a comprehensive view of all the correlations. "
   ]
  },
  {
   "cell_type": "code",
   "execution_count": null,
   "metadata": {},
   "outputs": [],
   "source": [
    "# Extract and transpose the correlation matrix - diseases as rows and pollutants as columns\n",
    "disease_pollutant_corr = correlation_matrix.loc[disease_columns, pollutants]\n",
    "\n",
    "# Visualize the correlation matrix as a heatmap using matplotlib\n",
    "plt.figure(figsize=(10, 14))\n",
    "\n",
    "# Convert correlation values to float\n",
    "disease_pollutant_corr = disease_pollutant_corr.astype(float)\n",
    "\n",
    "# Create the heatmap\n",
    "im = plt.imshow(disease_pollutant_corr, cmap='coolwarm', vmin=-1, vmax=1)\n",
    "\n",
    "# Add colorbar\n",
    "cbar = plt.colorbar(im)\n",
    "cbar.set_label('Correlation Coefficient')\n",
    "\n",
    "# Add labels and title\n",
    "plt.title('Correlation between Air Pollutants and Medical Conditions', pad=50)\n",
    "plt.xticks(np.arange(len(pollutants)), pollutants, rotation=-35, ha='left')\n",
    "plt.yticks(np.arange(len(disease_columns)), disease_columns, rotation=0)  # Changed rotation to 0\n",
    "\n",
    "# Add correlation values as text annotations\n",
    "for i in range(len(disease_columns)):\n",
    "    for j in range(len(pollutants)):\n",
    "        corr_value = disease_pollutant_corr.iloc[i, j]\n",
    "        \n",
    "        # Format the correlation value\n",
    "        if pd.notna(corr_value):\n",
    "            corr_text = f'{corr_value:.2f}'\n",
    "            plt.text(j, i, corr_text, ha=\"center\", va=\"center\", color=\"black\", fontsize=9)\n",
    "\n",
    "plt.tight_layout()\n",
    "plt.show()\n"
   ]
  },
  {
   "cell_type": "markdown",
   "metadata": {},
   "source": [
    "### Dislaying correlation matrix with p-values and conclusions from the graph\n"
   ]
  },
  {
   "cell_type": "markdown",
   "metadata": {},
   "source": [
    "Now we generate the correlation matrix with the corresponding p-values to better understand the results. Correlations that are not statistically significant with 5% significanse level are grayed out."
   ]
  },
  {
   "cell_type": "code",
   "execution_count": null,
   "metadata": {},
   "outputs": [],
   "source": [
    "plt.figure(figsize=(10, 14))\n",
    "\n",
    "# Create the heatmap\n",
    "im = plt.imshow(disease_pollutant_corr, cmap='coolwarm', vmin=-1, vmax=1)\n",
    "\n",
    "# Add colorbar\n",
    "cbar = plt.colorbar(im)\n",
    "cbar.set_label('Correlation Coefficient')\n",
    "\n",
    "# Add labels and title\n",
    "plt.title('Correlation between Air Pollutants Health Measures With p-values', pad=50)\n",
    "plt.xticks(np.arange(len(pollutants)), pollutants, rotation=-35, ha='left')\n",
    "plt.yticks(np.arange(len(disease_columns)), disease_columns, rotation=0)\n",
    "\n",
    "ax = plt.gca()  # Get the current axis\n",
    "\n",
    "# Add correlation values, p-values, and light gray overlay\n",
    "for i in range(len(disease_columns)):\n",
    "    for j in range(len(pollutants)):\n",
    "        corr_value = disease_pollutant_corr.iloc[i, j]\n",
    "        p_value = p_value_matrix.iloc[i, j]\n",
    "        \n",
    "        # Format the correlation value\n",
    "        corr_text = f'{corr_value:.2f}'\n",
    "        \n",
    "        # Format the p-value\n",
    "        if pd.notna(p_value):\n",
    "            if p_value < 0.001:\n",
    "                p_text = 'p<0.001'\n",
    "            elif p_value < 0.01:\n",
    "                p_text = 'p<0.01'\n",
    "            elif p_value < 0.05:\n",
    "                p_text = 'p<0.05'\n",
    "            else:\n",
    "                p_text = f'p={p_value:.2f}'\n",
    "        else:\n",
    "            p_text = 'p=NA'\n",
    "\n",
    "        # Add text annotations\n",
    "        plt.text(j, i - 0.15, corr_text, ha=\"center\", va=\"center\", color=\"black\", fontsize=9)\n",
    "        plt.text(j, i + 0.15, p_text, ha=\"center\", va=\"center\", color=\"black\", fontsize=7)\n",
    "\n",
    "        # Add light gray overlay if p-value >= 0.05\n",
    "        if p_value >= 0.05:\n",
    "            rect = plt.Rectangle((j - 0.5, i - 0.5), 1, 1, color='#B0B0B0')  # Light gray\n",
    "            ax.add_patch(rect)\n",
    "\n",
    "plt.tight_layout()\n",
    "plt.show()"
   ]
  },
  {
   "cell_type": "markdown",
   "metadata": {},
   "source": [
    "#### Findings from the data\n",
    "\n",
    "- Prevalence of neither asthma nor chronic obstructive pulmonary disease have significant correlation with the pollution levels, even though both are respiratory track conditions. Our 1st hypothesis seems to not hold true.\n",
    "\n",
    "- 'Physical health not good for >= 14 days amon adults' and 'Fair or poor self-rated health status among adults' seem to positively correlate with both pm10 and pm25 pollution levels, meaning that the overall health of individuals seems to negatively correlate with air pollution. Our 2nd hypothesis seems to hold true.\n",
    "\n",
    "- Prevalence of cancer among adults seems to negatively correlate with pollution levels, which seems counter intuitive. For this reason, we wanted to include current smoking among adults in the results, since at least in within the scope of our data it seemed to negatively correlate with air pollution levels, and as a known predictor for cancer it could partially explain the result. Hence it could be one hidden variable contributing to this correlation, but the scope of this analysis isn't wide enough to make any conclusions for that. Here it is important to remember that correlation and causation are distinct.\n",
    "\n",
    "- Prevelance of chronic kidney disease appears to have positive correlation with air pollutants."
   ]
  },
  {
   "cell_type": "markdown",
   "metadata": {},
   "source": [
    "### Sample scatter plots for the data"
   ]
  },
  {
   "cell_type": "code",
   "execution_count": null,
   "metadata": {},
   "outputs": [],
   "source": [
    "# Set seaborn style\n",
    "sns.set_style(\"whitegrid\")\n",
    "\n",
    "# Use the original merged_df, and include all disease columns\n",
    "all_disease_columns = [col for col in merged_df.columns if \"among adults aged\" in col]\n",
    "pollutant_columns = [\"pm10_concentration\", \"pm25_concentration\"]\n",
    "\n",
    "# Create a 3x4 grid of subplots with specified figure size\n",
    "fig, axes = plt.subplots(3, 4, figsize=(20, 10), constrained_layout=True)\n",
    "axes = axes.flatten()  # Flatten to make indexing easier\n",
    "\n",
    "# Keep track of the current subplot\n",
    "plot_index = 0\n",
    "\n",
    "# Iterate through diseases and pollutants to create scatter plots\n",
    "for disease in all_disease_columns:\n",
    "    for pollutant in pollutant_columns:\n",
    "        # Skip if we've run out of subplots\n",
    "        if plot_index >= len(axes):\n",
    "            break\n",
    "            \n",
    "        ax = axes[plot_index]  # Select the current subplot\n",
    "        plot_index += 1\n",
    "        \n",
    "        # Create scatter plot in the current subplot (no regression line)\n",
    "        sns.scatterplot(data=merged_df, x=pollutant, y=disease, ax=ax)\n",
    "        \n",
    "        # Set labels and titles\n",
    "        ax.set_xlabel(pollutant)\n",
    "        ax.set_ylabel('Age-adjusted prevalence')\n",
    "        \n",
    "        # Create a shorter title\n",
    "        disease_short = disease.replace(\" among adults aged >=18 years\", \"\")\n",
    "        pollutant_short = pollutant.replace(\"_concentration\", \"\")\n",
    "        ax.set_title(f\"{disease_short} vs {pollutant_short}\", fontsize=10)\n",
    "\n",
    "\n",
    "# Add a main title\n",
    "fig.suptitle('Cities in Air Pollutant - Disease Prevelance frame of reference', fontsize=16)\n",
    "\n",
    "plt.tight_layout()\n",
    "plt.show()"
   ]
  },
  {
   "cell_type": "markdown",
   "metadata": {},
   "source": [
    "### Creating scatter plots of cities for the air pollutant-medical condition pairs that had statistically significant correlations"
   ]
  },
  {
   "cell_type": "code",
   "execution_count": null,
   "metadata": {},
   "outputs": [],
   "source": [
    "# First, let's handle the filtering of correlations without modifying disease_columns\n",
    "insignificant_mask = p_value_matrix > 0.05\n",
    "ins_filtered_correlations = correlation_matrix.copy()\n",
    "ins_filtered_correlations = ins_filtered_correlations.where(insignificant_mask, np.nan)\n",
    "ins_filtered_correlations = ins_filtered_correlations.astype(float)  # Ensure numeric dtype\n",
    "\n",
    "# Get the columns that have insignificant p-values\n",
    "invalid_rows = insignificant_mask.any(axis=1)\n",
    "\n",
    "# Get the disease names corresponding to these rows (assuming correlation_matrix has disease names as index)\n",
    "columns_with_insignificant_values = [disease_columns[i] for i in range(len(disease_columns)) if invalid_rows[i]]\n",
    "\n",
    "\n",
    "# Make a copy of merged_df\n",
    "xd_df = merged_df.copy()\n",
    "\n",
    "# Drop columns with insignificant values\n",
    "xd_df = xd_df.drop(columns_with_insignificant_values, axis=1, errors='ignore')\n",
    "\n",
    "pollutant_columns = [\"pm10_concentration\", \"pm25_concentration\"]  # No no2_concentration\n",
    "\n",
    "# Set seaborn style\n",
    "sns.set_style(\"whitegrid\")\n",
    "\n",
    "# Create scatter plots only for diseases that exist in the dataframe\n",
    "# Create a figure with subplots in a 4x2 grid (one for each disease-pollutant combination)\n",
    "fig, axes = plt.subplots(4, 2, figsize=(14, 24))\n",
    "\n",
    "# Flatten to make indexing easier\n",
    "axes = axes.flatten()\n",
    "\n",
    "# Track which plots we've created\n",
    "plot_count = 0\n",
    "\n",
    "# Create scatter plots for the specified diseases\n",
    "for i, disease in enumerate(disease_columns):\n",
    "    if disease in xd_df.columns:\n",
    "        for j, pollutant in enumerate(pollutant_columns):\n",
    "            # Create the scatter plot in the appropriate subplot position\n",
    "            ax = axes[plot_count]\n",
    "            \n",
    "            # Create scatter plot with population-sized markers\n",
    "            scatter = sns.scatterplot(\n",
    "                data=xd_df, \n",
    "                x=pollutant, \n",
    "                y=disease, \n",
    "                size=\"TotalPopulation\",  # Size points by population\n",
    "                sizes=(20, 200),        # Set range of point sizes\n",
    "                alpha=0.7,              # Add transparency\n",
    "                ax=ax\n",
    "            )\n",
    "            \n",
    "            # Add a trend line\n",
    "            sns.regplot(\n",
    "                data=xd_df,\n",
    "                x=pollutant, \n",
    "                y=disease,\n",
    "                scatter=False,\n",
    "                ci=95,\n",
    "                line_kws={'color': 'red'},\n",
    "                ax=ax\n",
    "            )\n",
    "            \n",
    "            ax.set_xlabel(f\"{pollutant}\", fontsize=10)\n",
    "            ax.set_ylabel('Age adjusted prevalence (%)', fontsize=10)\n",
    "            ax.set_title(f\"{disease}\\nvs {pollutant}\", fontsize=12)\n",
    "            plot_count += 1\n",
    "    else:\n",
    "        pass\n",
    "\n",
    "# Adjust layout and display the plot\n",
    "plt.tight_layout()\n",
    "plt.show()"
   ]
  },
  {
   "cell_type": "markdown",
   "metadata": {},
   "source": [
    "## Visualising p-values for the correlation coefficients"
   ]
  },
  {
   "cell_type": "code",
   "execution_count": null,
   "metadata": {},
   "outputs": [],
   "source": [
    "# Create a more readable visualization of p-values with disease names\n",
    "# First, let's create a dataframe that maps disease indices to actual disease names\n",
    "disease_names = {\n",
    "    i+1: name for i, name in enumerate(disease_columns)\n",
    "}\n",
    "\n",
    "# Convert p-values to a dataframe for easier plotting\n",
    "p_values_df = pd.DataFrame(p_value_matrix)\n",
    "\n",
    "# Create a figure with better formatting\n",
    "plt.figure(figsize=(12, 8))\n",
    "\n",
    "# Set up colors for different pollutants\n",
    "colors = ['#1f77b4', '#ff7f0e']\n",
    "markers = ['o', '^']\n",
    "labels = ['PM10', 'PM2.5']\n",
    "\n",
    "# Create the scatter plot with a clearer layout - plot ALL points\n",
    "for j in range(p_values_df.shape[1]):\n",
    "    x_values = np.array(range(1, len(p_values_df) + 1))\n",
    "    y_values = p_values_df.iloc[:, j]\n",
    "    \n",
    "    # Plot all points\n",
    "    plt.scatter(x_values, y_values, \n",
    "                color=colors[j], \n",
    "                marker=markers[j],\n",
    "                s=100,  # Larger point size\n",
    "                alpha=0.8,\n",
    "                edgecolors='black',\n",
    "                linewidths=0.5,\n",
    "                label=labels[j])\n",
    "\n",
    "# Add significance threshold line\n",
    "plt.axhline(y=0.05, color='red', linestyle='--', linewidth=1.5, label='Significance threshold (p=0.05)')\n",
    "\n",
    "# Improve the x-axis presentation - rotate labels for readability\n",
    "plt.xticks(range(1, len(disease_names) + 1), \n",
    "           [disease[:30] + '...' if len(disease) > 20 else disease for disease in disease_names.values()],\n",
    "           rotation=-35, ha='left')\n",
    "\n",
    "plt.xlim(0.5, len(disease_names) + 0.5)\n",
    "plt.ylim(0, 0.8)  # Set y-axis limit to show all points\n",
    "\n",
    "# Add labels and title\n",
    "plt.xlabel('Health Measures', fontsize=12)\n",
    "plt.ylabel('P-value', fontsize=12)\n",
    "plt.title('Statistical Significance of Correlations Between Air Pollutants and Health Measures', fontsize=14)\n",
    "\n",
    "# Add a legend\n",
    "plt.legend(loc='upper right', frameon=True)\n",
    "\n",
    "# Add grid for better readability\n",
    "plt.grid(True, linestyle='--', alpha=0.3)\n",
    "\n",
    "plt.tight_layout()\n",
    "plt.show()"
   ]
  },
  {
   "cell_type": "code",
   "execution_count": null,
   "metadata": {},
   "outputs": [],
   "source": [
    "# Create a more readable visualization of significant p-values with disease names\n",
    "\n",
    "# First, create a mask for significant p-values (p < 0.05)\n",
    "significant_mask = p_value_matrix < 0.05\n",
    "\n",
    "# Get the indices of diseases with significant correlations\n",
    "significant_diseases = []\n",
    "for i, row in enumerate(significant_mask.index):\n",
    "    if significant_mask.loc[row].any():\n",
    "        significant_diseases.append(i+1)\n",
    "\n",
    "# Get the names of these significant diseases\n",
    "significant_disease_names = [disease_columns[i-1] for i in significant_diseases]\n",
    "\n",
    "# Create shortened labels for plotting\n",
    "significant_disease_labels = [name[:30] + '...' if len(name) > 30 else name for name in significant_disease_names]\n",
    "\n",
    "# Create a figure with better formatting\n",
    "plt.figure(figsize=(12, 8))\n",
    "\n",
    "# Set up colors for different pollutants\n",
    "colors = ['#1f77b4', '#ff7f0e']  # Only 2 colors for PM10 and PM2.5\n",
    "markers = ['o', '^']  # Only 2 markers\n",
    "labels = ['PM10', 'PM2.5']  # Only include PM10 and PM2.5\n",
    "\n",
    "# Plot only the significant p-values\n",
    "for j in range(p_values_df.shape[1]):\n",
    "    # Focus only on diseases with significant p-values\n",
    "    for i, disease_idx in enumerate(significant_diseases):\n",
    "        disease_name = significant_disease_names[i]\n",
    "        if significant_mask.loc[disease_name, p_values_df.columns[j]]:\n",
    "            plt.scatter(i+1, p_values_df.loc[disease_name, p_values_df.columns[j]], \n",
    "                    color=colors[j], \n",
    "                    marker=markers[j],\n",
    "                    s=150,  # Larger point size\n",
    "                    alpha=0.8,\n",
    "                    edgecolors='black',\n",
    "                    linewidths=0.7,\n",
    "                    label=labels[j] if i == 0 else \"\")  # Only label once for each pollutant\n",
    "\n",
    "# Add significance threshold line\n",
    "plt.axhline(y=0.05, color='red', linestyle='--', linewidth=1.5, label='Significance threshold (p=0.05)')\n",
    "\n",
    "# Improve the x-axis presentation\n",
    "plt.xticks(range(1, len(significant_disease_labels) + 1), \n",
    "           significant_disease_labels,\n",
    "           rotation=-30, ha='left')\n",
    "\n",
    "plt.xlim(0.5, len(significant_disease_labels) + 0.5)\n",
    "plt.ylim(0, 0.055)  # Set y-axis limit just above significance level\n",
    "\n",
    "# Add labels and title\n",
    "plt.xlabel('Health Measures with Significant Correlations', fontsize=12)\n",
    "plt.ylabel('P-value', fontsize=12)\n",
    "plt.title('Statistical Significance of Correlations Between Air Pollutants and Health Measures', fontsize=14)\n",
    "\n",
    "# Add a legend with unique entries\n",
    "handles, labels = plt.gca().get_legend_handles_labels()\n",
    "by_label = dict(zip(labels, handles))\n",
    "plt.legend(by_label.values(), by_label.keys(), loc='upper right', frameon=True)\n",
    "\n",
    "# Add grid for better readability\n",
    "plt.grid(True, linestyle='--', alpha=0.3)\n",
    "\n",
    "plt.tight_layout()\n",
    "plt.show()\n"
   ]
  }
 ],
 "metadata": {
  "kernelspec": {
   "display_name": "Python 3",
   "language": "python",
   "name": "python3"
  },
  "language_info": {
   "codemirror_mode": {
    "name": "ipython",
    "version": 3
   },
   "file_extension": ".py",
   "mimetype": "text/x-python",
   "name": "python",
   "nbconvert_exporter": "python",
   "pygments_lexer": "ipython3",
   "version": "3.11.3"
  }
 },
 "nbformat": 4,
 "nbformat_minor": 2
}
